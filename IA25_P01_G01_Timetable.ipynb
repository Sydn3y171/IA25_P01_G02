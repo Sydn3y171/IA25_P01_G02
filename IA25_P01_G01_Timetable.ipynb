{
 "cells": [
  {
   "cell_type": "code",
   "execution_count": null,
   "id": "0495378b",
   "metadata": {
    "vscode": {
     "languageId": "plaintext"
    }
   },
   "outputs": [],
   "source": [
    "# !pip install python-constraint\n",
    "from constraint import Problem\n",
    "from collections import defaultdict\n",
    "import re, pathlib\n",
    "\n",
    "DATA_PATH = \"ClassTT_01_tiny.txt\"  # coloca o ficheiro ao lado do notebook\n"
   ]
  }
 ],
 "metadata": {
  "language_info": {
   "name": "python"
  }
 },
 "nbformat": 4,
 "nbformat_minor": 5
}
